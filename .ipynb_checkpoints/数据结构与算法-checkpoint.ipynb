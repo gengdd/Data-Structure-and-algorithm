{
 "cells": [
  {
   "cell_type": "code",
   "execution_count": 5,
   "metadata": {
    "scrolled": false
   },
   "outputs": [
    {
     "name": "stdout",
     "output_type": "stream",
     "text": [
      "0 500 500\n",
      "200 375 425\n",
      "375 200 425\n",
      "500 0 500\n",
      "154.59000253677368\n"
     ]
    }
   ],
   "source": [
    "import time\n",
    "start_time=time.time()\n",
    "i=0\n",
    "j=0\n",
    "k=0\n",
    "for i in range(1001):\n",
    "    for j in range(1001):\n",
    "        for k in range(1001):\n",
    "            if i+j+k==1000 and i*i+j*j==k*k :\n",
    "                print(i,j,k)\n",
    "end_time=time.time()\n",
    "print(end_time-start_time)"
   ]
  },
  {
   "cell_type": "code",
   "execution_count": 6,
   "metadata": {},
   "outputs": [
    {
     "name": "stdout",
     "output_type": "stream",
     "text": [
      "0 500 500\n",
      "200 375 425\n",
      "375 200 425\n",
      "500 0 500\n",
      "1.3070542812347412\n"
     ]
    }
   ],
   "source": [
    "start_time=time.time()\n",
    "i=0\n",
    "j=0\n",
    "for i in range(1001):\n",
    "    for j in range(1001):\n",
    "        k=1000-i-j\n",
    "        if i**2+j**2==k**2:\n",
    "            print(i,j,k)\n",
    "end_time=time.time()\n",
    "print(end_time-start_time)"
   ]
  },
  {
   "cell_type": "code",
   "execution_count": 7,
   "metadata": {},
   "outputs": [],
   "source": [
    "# 每台机器执行的总时间不同\n",
    "# 但是执行基本运算数量大体相同"
   ]
  },
  {
   "cell_type": "code",
   "execution_count": 15,
   "metadata": {},
   "outputs": [
    {
     "name": "stdout",
     "output_type": "stream",
     "text": [
      "0.8675769284183161\n",
      "0.8477682796700492\n",
      "0.37001877206398603\n",
      "0.1689909109599057\n",
      "1.1330135272396546\n"
     ]
    }
   ],
   "source": [
    "import timeit\n",
    "\n",
    "# li1=[1,2]\n",
    "# li2=[23,5]\n",
    "# li=li1+li2\n",
    "# li=[li for i in range(10000)]\n",
    "# li=list(range(10000))\n",
    "\n",
    "def test1():\n",
    "    li=[]\n",
    "    for i in range(10000):\n",
    "        li.append(i)\n",
    "def test2():\n",
    "    li=[]\n",
    "    for i in range(10000):\n",
    "        li+=[i]\n",
    "def test3():\n",
    "    li=[i for i in range(10000)]\n",
    "def test4():\n",
    "    li=list(range(10000))\n",
    "def test5():\n",
    "    li=[]\n",
    "    for i in range(10000):\n",
    "        li.extend([i])\n",
    "\n",
    "timer1=Timer('test1()','from __main__ import test1')\n",
    "print(timer1.timeit(1000))\n",
    "timer2=Timer('test2()','from __main__ import test2')\n",
    "print(timer2.timeit(1000))\n",
    "timer3=Timer('test3()','from __main__ import test3')\n",
    "print(timer3.timeit(1000))\n",
    "timer4=Timer('test4()','from __main__ import test4')\n",
    "print(timer4.timeit(1000))\n",
    "timer5=Timer('test5()','from __main__ import test5')\n",
    "print(timer5.timeit(1000))"
   ]
  },
  {
   "cell_type": "code",
   "execution_count": 16,
   "metadata": {},
   "outputs": [
    {
     "name": "stdout",
     "output_type": "stream",
     "text": [
      "0.885789967770279\n",
      "32.20105897147823\n"
     ]
    }
   ],
   "source": [
    "def test6():\n",
    "    li=[]\n",
    "    for i in range(10000):\n",
    "        li.append(i)\n",
    "def test7():\n",
    "    li=[]\n",
    "    for i in range(10000):\n",
    "        li.insert(0,i)\n",
    "\n",
    "timer6=Timer('test6()','from __main__ import test6')\n",
    "print(timer6.timeit(1000))\n",
    "timer7=Timer('test7()','from __main__ import test7')\n",
    "print(timer7.timeit(1000))"
   ]
  },
  {
   "cell_type": "markdown",
   "metadata": {},
   "source": [
    "## 单链表"
   ]
  },
  {
   "cell_type": "code",
   "execution_count": 1,
   "metadata": {},
   "outputs": [],
   "source": [
    "class Node(object):\n",
    "    ##节点\n",
    "    def __init__(self,elem):\n",
    "        self.elem=elem\n",
    "        self.next=None"
   ]
  },
  {
   "cell_type": "code",
   "execution_count": 2,
   "metadata": {},
   "outputs": [],
   "source": [
    "class SingleLinklist(object):\n",
    "    def __init__(self,node=None):\n",
    "        self.__head=None\n",
    "    def is_empty(self):\n",
    "        return self.__head==None\n",
    "    def length(self):\n",
    "        cur=self.__head\n",
    "        count=0\n",
    "        while cur!=None:\n",
    "            count+=1\n",
    "            cur=cur.next\n",
    "        return count\n",
    "    def travel(self):\n",
    "        cur=self.__head\n",
    "        while cur!=None:\n",
    "            print(cur.elem,end=' ')\n",
    "            cur=cur.next\n",
    "        print(' ')\n",
    "    def add(self,item):##头插法\n",
    "        node=Node(item)\n",
    "        node.next=self.__head\n",
    "        self.__head=node\n",
    "    def append(self,item):##尾插法\n",
    "        node=Node(item)\n",
    "        if self.is_empty():\n",
    "            self.__head=node\n",
    "        else:\n",
    "            cur=self.__head\n",
    "            while cur.next!=None:\n",
    "                cur=cur.next\n",
    "            cur.next=node\n",
    "    def insert(self,pos,item):\n",
    "        pre=self.__head\n",
    "        count=0\n",
    "        if pos<=0:\n",
    "            self.add(item)\n",
    "        elif pos>(self.length()-1):\n",
    "            self.append(item)\n",
    "        else:\n",
    "            while count<(pos-1):\n",
    "                count+=1\n",
    "                pre=pre.next\n",
    "            node=Node(item)\n",
    "            node.next=pre.next\n",
    "            pre.next=node\n",
    "    def remove(self,item):\n",
    "        cur=self.__head\n",
    "        pre=None\n",
    "        while cur!=None:\n",
    "            if cur.elem==item:\n",
    "                if cur==self.__head:\n",
    "                    self.__head=cur.next\n",
    "                    break\n",
    "                else:\n",
    "                    pre.next=cur.next\n",
    "                    break\n",
    "            else:\n",
    "                pre=cur\n",
    "                cur=cur.next\n",
    "    def search(self,item):\n",
    "        cur=self.__head\n",
    "        while cur!=None:\n",
    "            if cur.elem==item:\n",
    "                return True\n",
    "            else:\n",
    "                cur=cur.next\n",
    "        return False"
   ]
  },
  {
   "cell_type": "code",
   "execution_count": 3,
   "metadata": {},
   "outputs": [
    {
     "name": "stdout",
     "output_type": "stream",
     "text": [
      "True\n",
      "0\n",
      "False\n",
      "1\n",
      "9 8 1 2 3 4 5 6  \n",
      "9 8 100 1 2 3 4 5 6  \n",
      "9 8 100 1 2 3 4 5 6 200  \n",
      "9 8 1 2 3 4 5 6 200  \n",
      "8 1 2 3 4 5 6 200  \n"
     ]
    }
   ],
   "source": [
    "if __name__ == '__main__' :\n",
    "    ll=SingleLinklist()\n",
    "    print(ll.is_empty())\n",
    "    print(ll.length())\n",
    "    \n",
    "    ll.append(1)\n",
    "    print(ll.is_empty())\n",
    "    print(ll.length())\n",
    "    \n",
    "    ll.append(2)\n",
    "    ll.add(8)\n",
    "    ll.append(3)\n",
    "    ll.append(4)\n",
    "    ll.append(5)\n",
    "    ll.append(6)\n",
    "    ll.insert(-1,9)\n",
    "    ll.travel()\n",
    "    ll.insert(2,100)\n",
    "    ll.travel()\n",
    "    ll.insert(10,200)\n",
    "    ll.travel()\n",
    "    ll.remove(100)\n",
    "    ll.travel()\n",
    "    ll.remove(9)\n",
    "    ll.travel()"
   ]
  },
  {
   "cell_type": "markdown",
   "metadata": {},
   "source": [
    "## 单项循环链表"
   ]
  },
  {
   "cell_type": "code",
   "execution_count": 17,
   "metadata": {},
   "outputs": [],
   "source": [
    "class SingleCycleLinklist(object):\n",
    "    def __init__(self,node=None):\n",
    "        self.__head=node\n",
    "        if node:\n",
    "            node.next=node\n",
    "    def is_empty(self):\n",
    "        return self.__head==None\n",
    "    def length(self):\n",
    "        if self.is_empty():\n",
    "            return 0\n",
    "        cur=self.__head\n",
    "        count=1\n",
    "        while cur.next!=self.__head:\n",
    "            count+=1\n",
    "            cur=cur.next\n",
    "        return count\n",
    "    def travel(self):\n",
    "        cur=self.__head\n",
    "        while cur.next!=self.__head:\n",
    "            print(cur.elem,end='')\n",
    "            cur=cur.next\n",
    "        print(cur.elem)\n",
    "    def add(self,item):##头插法\n",
    "        node=Node(item)\n",
    "        if self.is_empty():\n",
    "            self.__head=node\n",
    "            node.next=node\n",
    "        else:\n",
    "            cur=self.__head\n",
    "            while cur.next!=self.__head:\n",
    "                cur=cur.next\n",
    "            node.next=self.__head\n",
    "            self.__head=node\n",
    "            cur.next=self.__head #cur.next=node\n",
    "    def append(self,item):##尾插法\n",
    "        node=Node(item)\n",
    "        if self.is_empty():\n",
    "            self.__head=node\n",
    "            node.next=node\n",
    "        else:\n",
    "            cur=self.__head\n",
    "            while cur.next!=self.__head:\n",
    "                cur=cur.next\n",
    "            node.next=self.__head\n",
    "            cur.next=node\n",
    "    def insert(self,pos,item):\n",
    "        pre=self.__head\n",
    "        count=0\n",
    "        if pos<=0:\n",
    "            self.add(item)\n",
    "        elif pos>(self.length()-1):\n",
    "            self.append(item)\n",
    "        else:\n",
    "            while count<(pos-1):\n",
    "                count+=1\n",
    "                pre=pre.next\n",
    "            node=Node(item)\n",
    "            node.next=pre.next\n",
    "            pre.next=node\n",
    "    def remove(self,item):\n",
    "        if self.is_empty():\n",
    "            return 0\n",
    "        cur=self.__head\n",
    "        pre=None\n",
    "        while cur.next!=self.__head:\n",
    "            if cur.elem==item:\n",
    "                if cur==self.__head:#头节点\n",
    "                    rear=self.__head\n",
    "                    while rear.next!=self.__head:\n",
    "                        rear=rear.next\n",
    "                    self.__head=cur.next\n",
    "                    rear.next=self.__head\n",
    "#                     self.__head=cur.next\n",
    "                else:#中间节点\n",
    "                    pre.next=cur.next\n",
    "                return 0\n",
    "            else:\n",
    "                pre=cur\n",
    "                cur=cur.next\n",
    "        if cur.elem==item:#尾节点\n",
    "            if cur==self.__head:\n",
    "                self.__head=None\n",
    "            else:\n",
    "                pre.next=cur.next\n",
    "    def search(self,item):\n",
    "        if self.is_empty():\n",
    "            return False\n",
    "        cur=self.__head\n",
    "        while cur.next!=self.__head:\n",
    "            if cur.elem==item:\n",
    "                return True\n",
    "            else:\n",
    "                cur=cur.next\n",
    "        if cur.elem==item:\n",
    "            return True\n",
    "        return False"
   ]
  },
  {
   "cell_type": "code",
   "execution_count": 18,
   "metadata": {
    "scrolled": true
   },
   "outputs": [
    {
     "name": "stdout",
     "output_type": "stream",
     "text": [
      "True\n",
      "0\n",
      "False\n",
      "1\n",
      "98123456\n",
      "98100123456\n",
      "98100123456200\n",
      "98123456200\n",
      "8123456200\n"
     ]
    }
   ],
   "source": [
    "if __name__ == '__main__' :\n",
    "    ll=SingleCycleLinklist()\n",
    "    print(ll.is_empty())\n",
    "    print(ll.length())\n",
    "    \n",
    "    ll.append(1)\n",
    "    print(ll.is_empty())\n",
    "    print(ll.length())\n",
    "    \n",
    "    ll.append(2)\n",
    "    ll.add(8)\n",
    "    ll.append(3)\n",
    "    ll.append(4)\n",
    "    ll.append(5)\n",
    "    ll.append(6)\n",
    "    ll.insert(-1,9)\n",
    "    ll.travel()\n",
    "    ll.insert(2,100)\n",
    "    ll.travel()\n",
    "    ll.insert(10,200)\n",
    "    ll.travel()\n",
    "    ll.remove(100)\n",
    "    ll.travel()\n",
    "    ll.remove(9)\n",
    "    ll.travel()"
   ]
  },
  {
   "cell_type": "markdown",
   "metadata": {},
   "source": [
    "## 双向链表"
   ]
  },
  {
   "cell_type": "code",
   "execution_count": 8,
   "metadata": {},
   "outputs": [],
   "source": [
    "class Node(object):\n",
    "    def __init__(self,item):\n",
    "        self.elem=item\n",
    "        self.next=None\n",
    "        self.prev=None"
   ]
  },
  {
   "cell_type": "code",
   "execution_count": 11,
   "metadata": {},
   "outputs": [],
   "source": [
    "class DoubuleLinkList(object):\n",
    "    def __init__(self,node=None):\n",
    "        self.__head=node\n",
    "    def is_empty(self):\n",
    "        return self.__head is None\n",
    "    def length(self):\n",
    "        cur=self.__head\n",
    "        count=0\n",
    "        while cur!=None:\n",
    "            count+=1\n",
    "            cur=cur.next\n",
    "        return count\n",
    "    def travel(self):\n",
    "        if self.is_empty():\n",
    "            return 0\n",
    "        cur=self.__head\n",
    "        while cur!=None:\n",
    "            print(cur.elem,end=' ')\n",
    "            cur=cur.next\n",
    "        print('')\n",
    "    def add(self,item):\n",
    "        node=Node(item)\n",
    "        node.next=self.__head\n",
    "        self.__head=node\n",
    "        node.next.prev=node\n",
    "    def append(self,item):\n",
    "        node=Node(item)\n",
    "        if self.is_empty():\n",
    "            self.__head=node\n",
    "        else:\n",
    "            cur=self.__head\n",
    "            while cur.next!=None:\n",
    "                cur=cur.next\n",
    "            cur.next=node\n",
    "            node.prev=cur\n",
    "    def search(self,item):\n",
    "        cur=self.__head\n",
    "        while cur!=None:\n",
    "            if cur.elem==item:\n",
    "                return True\n",
    "            else:\n",
    "                cur=cur.next\n",
    "        return False\n",
    "    def insert(self,pos,item):\n",
    "        if pos<=0:\n",
    "            self.add(item)\n",
    "        elif pos>(self.length()-1):\n",
    "            self.append(item)\n",
    "        else:\n",
    "            cur=self.__head\n",
    "            count=0\n",
    "            while count<pos:\n",
    "                count+=1\n",
    "                cur=cur.next\n",
    "            node=Node(item)\n",
    "            node.next=cur\n",
    "            node.prev=cur.prev\n",
    "            cur.prev.next=node\n",
    "            cur.prev=node\n",
    "    def remove(self,item):\n",
    "        cur=self.__head\n",
    "        while cur!=None:\n",
    "            if cur.elem==item:\n",
    "                if cur==self.__head:\n",
    "                    self.__head=cur.next\n",
    "                    if cur.next:\n",
    "                        cur.next.prev=None\n",
    "                else:\n",
    "                    cur.prev.next=cur.next\n",
    "                    if cur.next:\n",
    "                        cur.next.prev=cur.prev\n",
    "                break\n",
    "            else:\n",
    "                cur=cur.next"
   ]
  },
  {
   "cell_type": "code",
   "execution_count": 12,
   "metadata": {},
   "outputs": [
    {
     "name": "stdout",
     "output_type": "stream",
     "text": [
      "True\n",
      "0\n",
      "False\n",
      "1\n",
      "9 8 1 2 3 4 5 6 \n",
      "9 8 100 1 2 3 4 5 6 \n",
      "9 8 100 1 2 3 4 5 6 200 \n",
      "9 8 1 2 3 4 5 6 200 \n",
      "8 1 2 3 4 5 6 200 \n"
     ]
    }
   ],
   "source": [
    "if __name__ == '__main__' :\n",
    "    ll=DoubuleLinkList()\n",
    "    print(ll.is_empty())\n",
    "    print(ll.length())\n",
    "    \n",
    "    ll.append(1)\n",
    "    print(ll.is_empty())\n",
    "    print(ll.length())\n",
    "    \n",
    "    ll.append(2)\n",
    "    ll.add(8)\n",
    "    ll.append(3)\n",
    "    ll.append(4)\n",
    "    ll.append(5)\n",
    "    ll.append(6)\n",
    "    ll.insert(-1,9)\n",
    "    ll.travel()\n",
    "    ll.insert(2,100)\n",
    "    ll.travel()\n",
    "    ll.insert(10,200)\n",
    "    ll.travel()\n",
    "    ll.remove(100)\n",
    "    ll.travel()\n",
    "    ll.remove(9)\n",
    "    ll.travel()"
   ]
  },
  {
   "cell_type": "markdown",
   "metadata": {},
   "source": [
    "## 栈"
   ]
  },
  {
   "cell_type": "code",
   "execution_count": 21,
   "metadata": {},
   "outputs": [],
   "source": [
    "class Stack(object):\n",
    "    def __init__(self):\n",
    "        self.__list=[]\n",
    "    def push(self,item):\n",
    "        self.__list.append(item)\n",
    "    def pop(self):\n",
    "        return self.__list.pop()\n",
    "    def peek(self):\n",
    "        if self.__list:\n",
    "            return self.__list[-1]\n",
    "        else:\n",
    "            return None\n",
    "    def is_empty():\n",
    "        return self.__list==[]\n",
    "    def size(self):\n",
    "        return len(self.__list)"
   ]
  },
  {
   "cell_type": "code",
   "execution_count": 22,
   "metadata": {},
   "outputs": [
    {
     "name": "stdout",
     "output_type": "stream",
     "text": [
      "4\n",
      "3\n",
      "2\n",
      "1\n"
     ]
    }
   ],
   "source": [
    "if __name__=='__main__':\n",
    "    s=Stack()\n",
    "    s.push(1)\n",
    "    s.push(2)\n",
    "    s.push(3)\n",
    "    s.push(4)\n",
    "    \n",
    "    print(s.pop())\n",
    "    print(s.pop())\n",
    "    print(s.pop())\n",
    "    print(s.pop())"
   ]
  },
  {
   "cell_type": "markdown",
   "metadata": {},
   "source": [
    "## 队列"
   ]
  },
  {
   "cell_type": "code",
   "execution_count": 25,
   "metadata": {},
   "outputs": [],
   "source": [
    "class Queue(object):\n",
    "    def __init__(self):\n",
    "        self.__list=[]\n",
    "    def enqueue(self,item):\n",
    "        self.__list.append(item)\n",
    "    def dequeue(self):\n",
    "        return self.__list.pop(0)\n",
    "    def is_empty(self):\n",
    "        return self.__list==[]\n",
    "    def size(self):\n",
    "        return len(self.__list)"
   ]
  },
  {
   "cell_type": "code",
   "execution_count": 26,
   "metadata": {},
   "outputs": [
    {
     "name": "stdout",
     "output_type": "stream",
     "text": [
      "1\n",
      "2\n",
      "3\n",
      "4\n"
     ]
    }
   ],
   "source": [
    "if __name__=='__main__':\n",
    "    s=Queue()\n",
    "    s.enqueue(1)\n",
    "    s.enqueue(2)\n",
    "    s.enqueue(3)\n",
    "    s.enqueue(4)\n",
    "    \n",
    "    print(s.dequeue())\n",
    "    print(s.dequeue())\n",
    "    print(s.dequeue())\n",
    "    print(s.dequeue())"
   ]
  },
  {
   "cell_type": "code",
   "execution_count": 27,
   "metadata": {},
   "outputs": [],
   "source": [
    "class Deque(object):\n",
    "    def __init__(self):\n",
    "        self.__list=[]\n",
    "    def add_front(self,item):\n",
    "        self.__list.insert(0,item)\n",
    "    def add_rear(self,item):\n",
    "        self.__list.append(item)\n",
    "    def pop_front(self):\n",
    "        return self.__list.pop(0)\n",
    "    def pop_rear(self):\n",
    "        return self.__list.pop()\n",
    "    def is_empty(self):\n",
    "        return self.__list==[]\n",
    "    def size(self):\n",
    "        return len(self.__list)"
   ]
  },
  {
   "cell_type": "markdown",
   "metadata": {},
   "source": [
    "## 冒泡排序"
   ]
  },
  {
   "cell_type": "code",
   "execution_count": 29,
   "metadata": {},
   "outputs": [],
   "source": [
    "def bubble_sort(alist):\n",
    "    n=len(alist)\n",
    "    for j in range(0,n-1): #for j in range(n-1,0,-1):\n",
    "        for i in range(0,n-j-1):\n",
    "            if alist[i]>alist[i+1]:\n",
    "                alist[i],alist[i+1]=alist[i+1],alist[i]"
   ]
  },
  {
   "cell_type": "code",
   "execution_count": 30,
   "metadata": {},
   "outputs": [
    {
     "name": "stdout",
     "output_type": "stream",
     "text": [
      "[54, 26, 93, 17, 77, 31, 44, 55, 20]\n",
      "[17, 20, 26, 31, 44, 54, 55, 77, 93]\n"
     ]
    }
   ],
   "source": [
    "if __name__=='__main__':\n",
    "    li=[54,26,93,17,77,31,44,55,20]\n",
    "    print(li)\n",
    "    bubble_sort(li)\n",
    "    print(li)"
   ]
  },
  {
   "cell_type": "code",
   "execution_count": null,
   "metadata": {},
   "outputs": [],
   "source": [
    "#改进最优复杂度\n",
    "def bubble_sort(alist):\n",
    "    n=len(alist)\n",
    "    for j in range(0,n-1): #for j in range(n-1,0,-1):\n",
    "        count=0\n",
    "        for i in range(0,n-j-1):\n",
    "            if alist[i]>alist[i+1]:\n",
    "                alist[i],alist[i+1]=alist[i+1],alist[i]\n",
    "                count+=1\n",
    "            if 0==count:\n",
    "                return"
   ]
  },
  {
   "cell_type": "markdown",
   "metadata": {},
   "source": [
    "## 选择排序"
   ]
  },
  {
   "cell_type": "code",
   "execution_count": 32,
   "metadata": {},
   "outputs": [],
   "source": [
    "def select_sort(alist):\n",
    "    n=len(alist)\n",
    "    for j in range(0,n-1):\n",
    "        min_index=j\n",
    "        for i in range(j+1,n):\n",
    "            if alist[min_index]>alist[i]:\n",
    "                min_index=i\n",
    "        alist[j],alist[min_index]=alist[min_index],alist[j]"
   ]
  },
  {
   "cell_type": "code",
   "execution_count": 33,
   "metadata": {},
   "outputs": [
    {
     "name": "stdout",
     "output_type": "stream",
     "text": [
      "[54, 26, 93, 17, 77, 31, 44, 55, 20]\n",
      "[17, 20, 26, 31, 44, 54, 55, 77, 93]\n"
     ]
    }
   ],
   "source": [
    "if __name__=='__main__':\n",
    "    li=[54,26,93,17,77,31,44,55,20]\n",
    "    print(li)\n",
    "    select_sort(li)\n",
    "    print(li)"
   ]
  },
  {
   "cell_type": "markdown",
   "metadata": {},
   "source": [
    "## 插入排序"
   ]
  },
  {
   "cell_type": "code",
   "execution_count": 34,
   "metadata": {},
   "outputs": [],
   "source": [
    "def insert_sort(alist):\n",
    "    n=len(alist)\n",
    "    for j in range(1,n):\n",
    "        i=j\n",
    "        while i>0:\n",
    "            if alist[i]<alist[i-1]:\n",
    "                alist[i],alist[i-1]=alist[i-1],alist[i]\n",
    "                i-=1\n",
    "            else:\n",
    "                break"
   ]
  },
  {
   "cell_type": "code",
   "execution_count": 36,
   "metadata": {},
   "outputs": [
    {
     "name": "stdout",
     "output_type": "stream",
     "text": [
      "[54, 26, 93, 17, 77, 31, 44, 55, 20]\n",
      "[17, 20, 26, 31, 44, 54, 55, 77, 93]\n"
     ]
    }
   ],
   "source": [
    "if __name__=='__main__':\n",
    "    li=[54,26,93,17,77,31,44,55,20]\n",
    "    print(li)\n",
    "    insert_sort(li)\n",
    "    print(li)"
   ]
  },
  {
   "cell_type": "markdown",
   "metadata": {},
   "source": [
    "## 希尔排序"
   ]
  },
  {
   "cell_type": "code",
   "execution_count": 1,
   "metadata": {},
   "outputs": [],
   "source": [
    "def shell_sort(alist):\n",
    "    n=len(alist)\n",
    "    gap=n//2\n",
    "#     i=gap\n",
    "    while gap>0:\n",
    "        for j in range(gap,n):\n",
    "            i=j\n",
    "            while i>0:\n",
    "                if alist[i]<alist[i-gap]:\n",
    "                    alist[i],alist[i-gap]=alist[i-gap],alist[i]\n",
    "                    i-=gap\n",
    "                else:\n",
    "                    break\n",
    "        gap//=2"
   ]
  },
  {
   "cell_type": "code",
   "execution_count": 3,
   "metadata": {},
   "outputs": [
    {
     "name": "stdout",
     "output_type": "stream",
     "text": [
      "[54, 26, 93, 17, 77, 31, 44, 55, 20]\n",
      "[17, 20, 26, 31, 44, 54, 55, 77, 93]\n"
     ]
    }
   ],
   "source": [
    "if __name__=='__main__':\n",
    "    li=[54,26,93,17,77,31,44,55,20]\n",
    "    print(li)\n",
    "    shell_sort(li)\n",
    "    print(li)"
   ]
  },
  {
   "cell_type": "markdown",
   "metadata": {},
   "source": [
    "## 快速排序"
   ]
  },
  {
   "cell_type": "code",
   "execution_count": 23,
   "metadata": {},
   "outputs": [],
   "source": [
    "def quick_sort(alist,first,last):\n",
    "#     n=len(alist)\n",
    "    if first>=last:\n",
    "        return\n",
    "    mid_value=alist[first]\n",
    "    low=first\n",
    "    high=last\n",
    "    while low<high:\n",
    "        while low<high and alist[high]>=mid_value:\n",
    "            high-=1\n",
    "        alist[low]=alist[high]\n",
    "#         low+=1\n",
    "        \n",
    "        while low<high and alist[low]<mid_value:\n",
    "            low+=1\n",
    "        alist[high]=alist[low]\n",
    "#         high-=1\n",
    "    alist[low]=mid_value\n",
    "    \n",
    "    quick_sort(alist,first,low-1)\n",
    "    quick_sort(alist,low+1,last)"
   ]
  },
  {
   "cell_type": "code",
   "execution_count": 24,
   "metadata": {},
   "outputs": [
    {
     "name": "stdout",
     "output_type": "stream",
     "text": [
      "[54, 26, 93, 17, 77, 31, 44, 55, 20]\n",
      "[17, 20, 26, 31, 44, 54, 55, 77, 93]\n"
     ]
    }
   ],
   "source": [
    "if __name__=='__main__':\n",
    "    li=[54,26,93,17,77,31,44,55,20]\n",
    "    print(li)\n",
    "    quick_sort(li,0,len(li)-1)\n",
    "    print(li)"
   ]
  },
  {
   "cell_type": "markdown",
   "metadata": {},
   "source": [
    "## 归并排序"
   ]
  },
  {
   "cell_type": "code",
   "execution_count": 1,
   "metadata": {},
   "outputs": [],
   "source": [
    "def merge_sort(alist):\n",
    "    n=len(alist)\n",
    "    if n<=1:\n",
    "        return alist\n",
    "    mid=n//2\n",
    "    left_li=merge_sort(alist[:mid])\n",
    "    \n",
    "    right_li=merge_sort(alist[mid:]) \n",
    "    \n",
    "    left_pointer,right_pointer=0,0\n",
    "    result=[]\n",
    "    while left_pointer<len(left_li) and right_pointer<len(right_li):\n",
    "        if left_li[left_pointer]<right_li[right_pointer]:\n",
    "            result.append(left_li[left_pointer])\n",
    "            left_pointer+=1\n",
    "        else:\n",
    "            result.append(right_li[right_pointer])\n",
    "            right_pointer+=1\n",
    "    result+=left_li[left_pointer:]\n",
    "    result+=right_li[right_pointer:]\n",
    "    return result"
   ]
  },
  {
   "cell_type": "code",
   "execution_count": 4,
   "metadata": {},
   "outputs": [
    {
     "name": "stdout",
     "output_type": "stream",
     "text": [
      "[54, 26, 93, 17, 77, 31, 44, 55, 20]\n",
      "[17, 20, 26, 31, 44, 54, 55, 77, 93]\n"
     ]
    }
   ],
   "source": [
    "if __name__=='__main__':\n",
    "    li=[54,26,93,17,77,31,44,55,20]\n",
    "    print(li)\n",
    "    sorted_li=merge_sort(li)\n",
    "    print(sorted_li)"
   ]
  },
  {
   "cell_type": "markdown",
   "metadata": {},
   "source": [
    "## 二分查找"
   ]
  },
  {
   "cell_type": "code",
   "execution_count": 7,
   "metadata": {},
   "outputs": [],
   "source": [
    "def binary_search(alist,item):\n",
    "    n=len(alist)\n",
    "    if n>=1:\n",
    "        mid=n//2\n",
    "        if alist[mid]==item:\n",
    "            return True\n",
    "        elif item<alist[mid]:\n",
    "            return binary_search(alist[:mid],item)\n",
    "        else:\n",
    "            return binary_search(alist[mid+1:],item)\n",
    "    return False"
   ]
  },
  {
   "cell_type": "code",
   "execution_count": 8,
   "metadata": {},
   "outputs": [
    {
     "name": "stdout",
     "output_type": "stream",
     "text": [
      "True\n",
      "False\n"
     ]
    }
   ],
   "source": [
    "if __name__=='__main__':\n",
    "    li=[17, 20, 26, 31, 44, 54, 55, 77, 93]\n",
    "    print(binary_search(li,55))\n",
    "    print(binary_search(li,100))"
   ]
  },
  {
   "cell_type": "code",
   "execution_count": 11,
   "metadata": {},
   "outputs": [],
   "source": [
    "def binary_search_2(alist,item):\n",
    "    n=len(alist)\n",
    "    first=0\n",
    "    last=n-1\n",
    "    while first<=last:\n",
    "        mid=(first+last)//2\n",
    "        if alist[mid]==item:\n",
    "            return True\n",
    "        elif item<alist[mid]:\n",
    "            last=mid-1\n",
    "        else:\n",
    "            first=mid+1\n",
    "    return False"
   ]
  },
  {
   "cell_type": "code",
   "execution_count": 12,
   "metadata": {},
   "outputs": [
    {
     "name": "stdout",
     "output_type": "stream",
     "text": [
      "True\n",
      "False\n"
     ]
    }
   ],
   "source": [
    "if __name__=='__main__':\n",
    "    li=[17, 20, 26, 31, 44, 54, 55, 77, 93]\n",
    "    print(binary_search_2(li,55))\n",
    "    print(binary_search_2(li,100))"
   ]
  },
  {
   "cell_type": "code",
   "execution_count": 13,
   "metadata": {},
   "outputs": [],
   "source": [
    "class Node(object):\n",
    "    def __init__(self,item):\n",
    "        self.elem=item\n",
    "        self.lchild=None\n",
    "        self.rchild=None"
   ]
  },
  {
   "cell_type": "code",
   "execution_count": 26,
   "metadata": {},
   "outputs": [],
   "source": [
    "class Tree(object):\n",
    "    def __init__(self):\n",
    "        self.root=None\n",
    "    def add(self,item):\n",
    "        node=Node(item)\n",
    "        queue=[self.root]\n",
    "        if self.root is None:\n",
    "            self.root=node\n",
    "            return\n",
    "        while queue:\n",
    "            cur_node=queue.pop(0)\n",
    "            if cur_node.lchild is None:\n",
    "                cur_node.lchild=node\n",
    "                return\n",
    "            else:\n",
    "                queue.append(cur_node.lchild)\n",
    "            if cur_node.rchild is None:\n",
    "                cur_node.rchild=node\n",
    "                return\n",
    "            else:\n",
    "                queue.append(cur_node.rchild)\n",
    "    def breadth_travel(self):\n",
    "        if self.root is None:\n",
    "            return\n",
    "        queue=[self.root]\n",
    "        while queue:\n",
    "            cur_node=queue.pop(0)\n",
    "            print(cur_node.elem)\n",
    "            if cur_node.lchild is not None:\n",
    "                queue.append(cur_node.lchild)\n",
    "            if cur_node.rchild is not None:\n",
    "                queue.append(cur_node.rchild)\n",
    "    def preorder(self,node):\n",
    "        if node is None:\n",
    "            return \n",
    "        print(node.elem,end='')\n",
    "        self.preorder(node.lchild)\n",
    "        self.preorder(node.rchild)\n",
    "    def inorder(self,node):\n",
    "        if node is None:\n",
    "            return\n",
    "        self.inorder(node.lchild)\n",
    "        print(node.elem,end='')\n",
    "        self.inorder(node.rchild)\n",
    "    def postorder(self,node):\n",
    "        if node is None:\n",
    "            return\n",
    "        self.postorder(node.lchild)\n",
    "        self.postorder(node.rchild)\n",
    "        print(node.elem,end='')"
   ]
  },
  {
   "cell_type": "code",
   "execution_count": 28,
   "metadata": {},
   "outputs": [
    {
     "name": "stdout",
     "output_type": "stream",
     "text": [
      "0\n",
      "1\n",
      "2\n",
      "3\n",
      "4\n",
      "5\n",
      "6\n",
      "7\n",
      "8\n",
      "9\n",
      " \n",
      "0137849256 \n",
      "7381940526 \n",
      "7839415620"
     ]
    }
   ],
   "source": [
    "if __name__=='__main__':\n",
    "    tree=Tree()\n",
    "    tree.add(0)\n",
    "    tree.add(1)\n",
    "    tree.add(2)\n",
    "    tree.add(3)\n",
    "    tree.add(4)\n",
    "    tree.add(5)\n",
    "    tree.add(6)\n",
    "    tree.add(7)\n",
    "    tree.add(8)\n",
    "    tree.add(9)\n",
    "    tree.breadth_travel()\n",
    "    print(' ')\n",
    "    tree.preorder(tree.root)\n",
    "    print(' ')\n",
    "    tree.inorder(tree.root)\n",
    "    print(' ')\n",
    "    tree.postorder(tree.root)"
   ]
  },
  {
   "cell_type": "code",
   "execution_count": 1,
   "metadata": {},
   "outputs": [
    {
     "data": {
      "text/plain": [
       "2"
      ]
     },
     "execution_count": 1,
     "metadata": {},
     "output_type": "execute_result"
    }
   ],
   "source": [
    "1+1"
   ]
  },
  {
   "cell_type": "code",
   "execution_count": 2,
   "metadata": {},
   "outputs": [],
   "source": [
    "b=1"
   ]
  },
  {
   "cell_type": "code",
   "execution_count": 3,
   "metadata": {},
   "outputs": [],
   "source": [
    "c=3"
   ]
  },
  {
   "cell_type": "code",
   "execution_count": null,
   "metadata": {},
   "outputs": [],
   "source": []
  },
  {
   "cell_type": "code",
   "execution_count": null,
   "metadata": {},
   "outputs": [],
   "source": []
  },
  {
   "cell_type": "code",
   "execution_count": null,
   "metadata": {},
   "outputs": [],
   "source": []
  },
  {
   "cell_type": "code",
   "execution_count": null,
   "metadata": {},
   "outputs": [],
   "source": []
  },
  {
   "cell_type": "code",
   "execution_count": null,
   "metadata": {},
   "outputs": [],
   "source": []
  },
  {
   "cell_type": "code",
   "execution_count": null,
   "metadata": {},
   "outputs": [],
   "source": []
  },
  {
   "cell_type": "code",
   "execution_count": null,
   "metadata": {},
   "outputs": [],
   "source": []
  },
  {
   "cell_type": "code",
   "execution_count": null,
   "metadata": {},
   "outputs": [],
   "source": []
  },
  {
   "cell_type": "code",
   "execution_count": null,
   "metadata": {},
   "outputs": [],
   "source": []
  }
 ],
 "metadata": {
  "kernelspec": {
   "display_name": "Python 3",
   "language": "python",
   "name": "python3"
  },
  "language_info": {
   "codemirror_mode": {
    "name": "ipython",
    "version": 3
   },
   "file_extension": ".py",
   "mimetype": "text/x-python",
   "name": "python",
   "nbconvert_exporter": "python",
   "pygments_lexer": "ipython3",
   "version": "3.6.5"
  }
 },
 "nbformat": 4,
 "nbformat_minor": 2
}
